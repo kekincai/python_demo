{
 "cells": [
  {
   "cell_type": "code",
   "execution_count": 16,
   "id": "ee16a54f-ce1d-44cd-9552-317f4224ea0c",
   "metadata": {},
   "outputs": [],
   "source": [
    "from sympy import *\n",
    "from sympy.abc import *\n",
    "init_printing()"
   ]
  },
  {
   "cell_type": "code",
   "execution_count": 23,
   "id": "107506b3-7c23-4b66-a393-9ccc5bb85fba",
   "metadata": {},
   "outputs": [],
   "source": [
    "r, n, c = symbols('r n c', positive=True)\n",
    "P = Symbol('P', positive=False)"
   ]
  },
  {
   "cell_type": "code",
   "execution_count": 24,
   "id": "14748403-797b-4a74-9903-5c3e9574254e",
   "metadata": {},
   "outputs": [],
   "source": [
    "f = P + c*((1+r)**n-1)/(r*(1+r)**n)"
   ]
  },
  {
   "cell_type": "code",
   "execution_count": 25,
   "id": "7b12f4cd-63fd-4c54-8f89-3c99f7a0e1e5",
   "metadata": {},
   "outputs": [
    {
     "data": {
      "text/latex": [
       "$\\displaystyle P + \\frac{c \\left(r + 1\\right)^{- n} \\left(\\left(r + 1\\right)^{n} - 1\\right)}{r}$"
      ],
      "text/plain": [
       "             -n ⎛       n    ⎞\n",
       "    c⋅(r + 1)  ⋅⎝(r + 1)  - 1⎠\n",
       "P + ──────────────────────────\n",
       "                r             "
      ]
     },
     "execution_count": 25,
     "metadata": {},
     "output_type": "execute_result"
    }
   ],
   "source": [
    "f"
   ]
  },
  {
   "cell_type": "code",
   "execution_count": 5,
   "id": "fe430f66-8060-4ab8-9f91-8fc798bc0d4b",
   "metadata": {},
   "outputs": [],
   "source": [
    "fs = series(f, r, 0, 3).removeO()"
   ]
  },
  {
   "cell_type": "code",
   "execution_count": 6,
   "id": "4fb9f3c4-2092-4a6e-a1db-9c6b49a3a013",
   "metadata": {},
   "outputs": [],
   "source": [
    "der1 = diff(fs, r)\n",
    "der2 = diff(fs, r, 2)\n",
    "M = der2 / der1 / 2"
   ]
  },
  {
   "cell_type": "code",
   "execution_count": 8,
   "id": "2772c622-a479-42d5-9607-be0caafd9825",
   "metadata": {},
   "outputs": [
    {
     "data": {
      "text/latex": [
       "$\\displaystyle \\frac{n + 2}{2 n r + 4 r - 3}$"
      ],
      "text/plain": [
       "     n + 2     \n",
       "───────────────\n",
       "2⋅n⋅r + 4⋅r - 3"
      ]
     },
     "execution_count": 8,
     "metadata": {},
     "output_type": "execute_result"
    }
   ],
   "source": [
    "factor(M)"
   ]
  },
  {
   "cell_type": "code",
   "execution_count": 9,
   "id": "05754760-3ccd-4cce-9bb8-c5688596ee96",
   "metadata": {},
   "outputs": [],
   "source": [
    "upper = -n*c / P - 1\n",
    "lower = (-n*c / P)**(1/n) - 1"
   ]
  },
  {
   "cell_type": "code",
   "execution_count": 11,
   "id": "15349132-9f59-4d0c-a394-ebaec754a128",
   "metadata": {},
   "outputs": [
    {
     "data": {
      "text/latex": [
       "$\\displaystyle -1 - \\frac{c n}{P}$"
      ],
      "text/plain": [
       "     c⋅n\n",
       "-1 - ───\n",
       "      P "
      ]
     },
     "execution_count": 11,
     "metadata": {},
     "output_type": "execute_result"
    }
   ],
   "source": [
    "upper"
   ]
  },
  {
   "cell_type": "code",
   "execution_count": 15,
   "id": "a32b5689-57c4-496f-954c-642df48478ef",
   "metadata": {},
   "outputs": [
    {
     "data": {
      "text/latex": [
       "$\\displaystyle \\frac{n + 2}{2 n r + 4 r - 3}$"
      ],
      "text/plain": [
       "     n + 2     \n",
       "───────────────\n",
       "2⋅n⋅r + 4⋅r - 3"
      ]
     },
     "execution_count": 15,
     "metadata": {},
     "output_type": "execute_result"
    }
   ],
   "source": [
    "tmp = der2 / der1 / 2\n",
    "tmo = tmp.subs(r, upper)\n",
    "factor(tmp)"
   ]
  },
  {
   "cell_type": "code",
   "execution_count": 29,
   "id": "f43b60b5-6755-481d-b31b-0e35363ee01a",
   "metadata": {},
   "outputs": [
    {
     "data": {
      "text/latex": [
       "$\\displaystyle \\max\\left(r, \\frac{c n^{3}}{2 c n^{3} r + 6 c n^{2} r - 3 c n^{2} + 4 c n r - 3 c n} + \\frac{c n^{2}}{\\frac{2 c n^{3} r}{3} + 2 c n^{2} r - c n^{2} + \\frac{4 c n r}{3} - c n} + \\frac{2 c n}{2 c n^{3} r + 6 c n^{2} r - 3 c n^{2} + 4 c n r - 3 c n}\\right)$"
      ],
      "text/plain": [
       "Max(r, c*n**3/(2*c*n**3*r + 6*c*n**2*r - 3*c*n**2 + 4*c*n*r - 3*c*n) + c*n**2/(2*c*n**3*r\n",
       "/3 + 2*c*n**2*r - c*n**2 + 4*c*n*r/3 - c*n) + 2*c*n/(2*c*n**3*r + 6*c*n**2*r - 3*c*n**2 +\n",
       " 4*c*n*r - 3*c*n))"
      ]
     },
     "execution_count": 29,
     "metadata": {},
     "output_type": "execute_result"
    }
   ],
   "source": [
    "factor(Max(tmp, r))"
   ]
  }
 ],
 "metadata": {
  "kernelspec": {
   "display_name": "Python 3 (ipykernel)",
   "language": "python",
   "name": "python3"
  },
  "language_info": {
   "codemirror_mode": {
    "name": "ipython",
    "version": 3
   },
   "file_extension": ".py",
   "mimetype": "text/x-python",
   "name": "python",
   "nbconvert_exporter": "python",
   "pygments_lexer": "ipython3",
   "version": "3.8.9"
  }
 },
 "nbformat": 4,
 "nbformat_minor": 5
}
